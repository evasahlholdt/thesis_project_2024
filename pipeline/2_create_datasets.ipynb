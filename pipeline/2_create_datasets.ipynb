{
 "cells": [
  {
   "cell_type": "markdown",
   "metadata": {},
   "source": [
    "# **Create optimization set and train- and test sets**"
   ]
  },
  {
   "cell_type": "markdown",
   "metadata": {},
   "source": [
    "## Import libraries"
   ]
  },
  {
   "cell_type": "code",
   "execution_count": 6,
   "metadata": {},
   "outputs": [],
   "source": [
    "import pandas as pd\n",
    "import numpy as np\n",
    "import random"
   ]
  },
  {
   "cell_type": "markdown",
   "metadata": {},
   "source": [
    "## Read data"
   ]
  },
  {
   "cell_type": "code",
   "execution_count": 7,
   "metadata": {},
   "outputs": [],
   "source": [
    "df = pd.read_csv(\"data_csv/df_MI.csv\")\n",
    "\n",
    "# Drop first two columns\n",
    "df = df.iloc[:, 2:]"
   ]
  },
  {
   "cell_type": "markdown",
   "metadata": {},
   "source": [
    "## Remove rest phases + run column"
   ]
  },
  {
   "cell_type": "code",
   "execution_count": 8,
   "metadata": {},
   "outputs": [],
   "source": [
    "df = df[df['annotation'] != 'rest']\n",
    "df = df.drop(columns=['run'])"
   ]
  },
  {
   "cell_type": "markdown",
   "metadata": {},
   "source": [
    "## **Optimization set**\n",
    "\n",
    "All samples from 5 random subjects are drawn for optimization set"
   ]
  },
  {
   "cell_type": "code",
   "execution_count": 12,
   "metadata": {},
   "outputs": [
    {
     "name": "stdout",
     "output_type": "stream",
     "text": [
      "['S33' 'S44' 'S70' 'S87' 'S91']\n",
      "Shape: (147600, 67)\n",
      "Target length: 147600\n",
      "Shape of train samples (examples, len_example, features): (225, 656, 3)\n",
      "Shape of train samples (examples, len_example, attributes): (225, 2)\n",
      "Subjects included for optimization: ['S33' 'S44' 'S70' 'S87' 'S91']\n"
     ]
    }
   ],
   "source": [
    "random.seed(5) \n",
    "\n",
    "# Define common parameters\n",
    "nr_runs_per_participant = 3\n",
    "trial_length = 656\n",
    "expected_rows = nr_runs_per_participant * 15 * trial_length # Nr rows for subjects with all trials\n",
    "\n",
    "# Select subjects with all 15 left/right hand trials\n",
    "subset_full_run_subjects = df[df['subject_ID'].isin(df['subject_ID'].value_counts()[lambda x: x == expected_rows].index)]\n",
    "unique_subjects = list(subset_full_run_subjects['subject_ID'].unique())\n",
    "optimize_df = df[df['subject_ID'].isin(random.sample(unique_subjects, 5))]\n",
    "\n",
    "print(optimize_df[\"subject_ID\"].unique())\n",
    "print(f\"Shape:\", optimize_df.shape)\n",
    "print(f\"Target length:\", 5 * 3 * 15 * 656)\n",
    "\n",
    "nr_participants = optimize_df[\"subject_ID\"].nunique()\n",
    "nr_trials = len(optimize_df) // trial_length\n",
    "\n",
    "## FEATURE VECTOR\n",
    "\n",
    "features_subset = optimize_df[[\"C3..\", \"C4..\", \"Cz..\"]].to_numpy()\n",
    "features = features_subset.reshape(nr_trials, trial_length, features_subset.shape[1])\n",
    "\n",
    "print(\"Shape of train samples (examples, len_example, features):\", features.shape)\n",
    "\n",
    "## ATTRIBUTE VECTOR\n",
    "\n",
    "attributes_subset = optimize_df[['annotation', 'subject_ID']].to_numpy()\n",
    "attributes = attributes_subset.reshape(nr_trials, trial_length, attributes_subset.shape[1])\n",
    "attributes = attributes[:, 0, :]\n",
    "\n",
    "print(\"Shape of train samples (examples, len_example, attributes):\", attributes.shape)\n",
    "print(\"Subjects included for optimization:\", optimize_df[\"subject_ID\"].unique())\n",
    "\n",
    "# Save\n",
    "np.save('optimize_features.npy', features)\n",
    "np.save('optimize_attributes.npy', attributes)"
   ]
  },
  {
   "cell_type": "markdown",
   "metadata": {},
   "source": [
    "## **Train- and test splits for 3-ALL, 3-SUB and 15-SUB**"
   ]
  },
  {
   "cell_type": "markdown",
   "metadata": {},
   "source": [
    "## Define common parameters"
   ]
  },
  {
   "cell_type": "code",
   "execution_count": 13,
   "metadata": {},
   "outputs": [],
   "source": [
    "nr_participants = df[\"subject_ID\"].nunique()\n",
    "nr_runs_per_participant = 3\n",
    "trial_length = 656\n",
    "nr_trials = len(df) // trial_length"
   ]
  },
  {
   "cell_type": "markdown",
   "metadata": {},
   "source": [
    "## Prepare 25-subject subset\n",
    "\n",
    "Draw 25 random subjects from the dataframe to establish the 3-SUB and 15-SUB datasets."
   ]
  },
  {
   "cell_type": "code",
   "execution_count": null,
   "metadata": {},
   "outputs": [],
   "source": [
    "random.seed(5) \n",
    "\n",
    "unique_subject_ids = df['subject_ID'].unique()\n",
    "selected_subject_ids = np.random.choice(unique_subject_ids, size=25, replace=False)\n",
    "df_25_sub = df[df['subject_ID'].isin(selected_subject_ids)]\n",
    "df_25_sub = df_25_sub.drop(columns=['time'])\n",
    "\n",
    "print(df_25_sub['subject_ID'].nunique())\n",
    "print(df_25_sub.shape)"
   ]
  },
  {
   "cell_type": "markdown",
   "metadata": {},
   "source": [
    "## 3-ALL (all subjects, 3 channels)\n",
    "\n",
    "Include all 103 subjects and only the three primary channels for left/right hand MI (Cz, C3 and C4)"
   ]
  },
  {
   "cell_type": "code",
   "execution_count": 15,
   "metadata": {},
   "outputs": [
    {
     "name": "stdout",
     "output_type": "stream",
     "text": [
      "Shape of the samples (examples, len_example, features): (4021, 656, 3)\n",
      "Shape of the samples (examples, len_example, attributes): (4021, 2)\n",
      "Shape of the samples (examples, len_example, features): (515, 656, 3)\n",
      "Shape of the samples (examples, len_example, attributes): (515, 2)\n"
     ]
    }
   ],
   "source": [
    "subset = df[[\"C3..\", \"C4..\", \"Cz..\", 'annotation', 'subject_ID']].to_numpy()\n",
    "samples = subset.reshape(nr_trials, trial_length, subset.shape[1])\n",
    "\n",
    "subject_ids = samples[:, 0, -1]\n",
    "unique_subject_ids = np.unique(subject_ids)\n",
    "\n",
    "train_samples = []\n",
    "test_samples = []\n",
    "\n",
    "for subject_id in unique_subject_ids:\n",
    "    subject_examples = samples[subject_ids == subject_id]\n",
    "    num_examples = subject_examples.shape[0]\n",
    "    num_to_select = int(np.floor(0.9 * num_examples))\n",
    "    selected_indices = np.random.choice(num_examples, num_to_select, replace=False)\n",
    "    remaining_indices = np.setdiff1d(np.arange(num_examples), selected_indices)\n",
    "    \n",
    "    train_samples.append(subject_examples[selected_indices])\n",
    "    test_samples.append(subject_examples[remaining_indices])\n",
    "\n",
    "train_samples_subset_channels = np.vstack(train_samples)\n",
    "\n",
    "features = train_samples_subset_channels[:, :, :3]\n",
    "attributes = train_samples_subset_channels[:, 0, -2:]\n",
    "\n",
    "print(\"Shape of the samples (examples, len_example, features):\", features.shape)\n",
    "print(\"Shape of the samples (examples, len_example, attributes):\", attributes.shape)\n",
    "\n",
    "np.save('train_features_3_ALL.npy', features)\n",
    "np.save('train_attributes_3_ALL.npy', attributes)\n",
    "\n",
    "test_samples_subset_channels = np.vstack(test_samples)\n",
    "\n",
    "features = test_samples_subset_channels[:, :, :3]\n",
    "attributes = test_samples_subset_channels[:, 0, -2:]\n",
    "\n",
    "print(\"Shape of the samples (examples, len_example, features):\", features.shape)\n",
    "print(\"Shape of the samples (examples, len_example, attributes):\", attributes.shape)\n",
    "\n",
    "np.save('test_features_3_ALL.npy', features)\n",
    "np.save('test_attributes_3_ALL.npy', attributes)\n"
   ]
  },
  {
   "cell_type": "markdown",
   "metadata": {},
   "source": [
    "## 3-SUB (25 subjects, 3 channels)\n",
    "\n",
    "Include only a subset of subjects and the three primary channels for left/right hand MI (Cz, C3 and C4)"
   ]
  },
  {
   "cell_type": "code",
   "execution_count": null,
   "metadata": {},
   "outputs": [],
   "source": [
    "nr_features = 3 # Number of channels to include\n",
    "subset = df_25_sub[[\"C3..\", \"C4..\", \"Cz..\", 'annotation', 'subject_ID']].to_numpy()\n",
    "samples = subset.reshape(nr_trials, trial_length, subset.shape[1])\n",
    "\n",
    "subject_ids = samples[:, 0, -1]\n",
    "unique_subject_ids = np.unique(subject_ids)\n",
    "\n",
    "train_samples = []\n",
    "test_samples = []\n",
    "\n",
    "for subject_id in unique_subject_ids:\n",
    "    subject_examples = samples[subject_ids == subject_id]\n",
    "    num_examples = subject_examples.shape[0]\n",
    "    num_to_select = int(np.floor(0.8 * num_examples))\n",
    "    selected_indices = np.random.choice(num_examples, num_to_select, replace=False)\n",
    "    remaining_indices = np.setdiff1d(np.arange(num_examples), selected_indices)\n",
    "    \n",
    "    train_samples.append(subject_examples[selected_indices])\n",
    "    test_samples.append(subject_examples[remaining_indices])\n",
    "\n",
    "train_samples_subset_channels = np.vstack(train_samples)\n",
    "\n",
    "features = train_samples_subset_channels[:, :, :nr_features]\n",
    "attributes = train_samples_subset_channels[:, 0, -2:]\n",
    "\n",
    "print(\"Shape of the samples (examples, len_example, features):\", features.shape)\n",
    "print(\"Shape of the samples (examples, len_example, attributes):\", attributes.shape)\n",
    "\n",
    "np.save('train_features_3_SUB.npy', features)\n",
    "np.save('train_attributes_3_SUB', attributes)\n",
    "\n",
    "test_samples_subset_channels = np.vstack(test_samples)\n",
    "\n",
    "features = test_samples_subset_channels[:, :, :nr_features]\n",
    "attributes = test_samples_subset_channels[:, 0, -2:]\n",
    "\n",
    "print(\"Shape of the samples (examples, len_example, features):\", features.shape)\n",
    "print(\"Shape of the samples (examples, len_example, attributes):\", attributes.shape)\n",
    "\n",
    "np.save('test_features_3_SUB', features)\n",
    "np.save('test_attributes_3_SUB', attributes)\n"
   ]
  },
  {
   "cell_type": "markdown",
   "metadata": {},
   "source": [
    "## 15-SUB (25 subjects, 15 channels)\n",
    "\n",
    "Include only 25 subjects but more regions of interest channels"
   ]
  },
  {
   "cell_type": "code",
   "execution_count": null,
   "metadata": {},
   "outputs": [],
   "source": [
    "ROI_channels = [\"C3..\", \"C4..\", \"Cz..\", \"Fcz.\", \"Fc3.\", \"Fc4.\", \"Cpz.\", \"Cp3.\", \"Cp4.\", \"P3..\", \"P4..\", \"P7..\", \"P8..\", \"T7..\", \"T8..\"]\n",
    "nr_features = len(ROI_channels)\n",
    "columns = ROI_channels + ['annotation', 'subject_ID']\n",
    "subset = df_25_sub[columns].to_numpy()\n",
    "samples = subset.reshape(nr_trials, trial_length, subset.shape[1])\n",
    "\n",
    "subject_ids = samples[:, 0, -1]\n",
    "unique_subject_ids = np.unique(subject_ids)\n",
    "\n",
    "train_samples = []\n",
    "test_samples = []\n",
    "\n",
    "for subject_id in unique_subject_ids:\n",
    "    subject_examples = samples[subject_ids == subject_id]\n",
    "    num_examples = subject_examples.shape[0]\n",
    "    num_to_select = int(np.floor(0.8 * num_examples))\n",
    "    selected_indices = np.random.choice(num_examples, num_to_select, replace=False)\n",
    "    remaining_indices = np.setdiff1d(np.arange(num_examples), selected_indices)\n",
    "    \n",
    "    train_samples.append(subject_examples[selected_indices])\n",
    "    test_samples.append(subject_examples[remaining_indices])\n",
    "\n",
    "train_samples_subset_channels = np.vstack(train_samples)\n",
    "\n",
    "features = train_samples_subset_channels[:, :, :nr_features]\n",
    "attributes = train_samples_subset_channels[:, 0, -2:]\n",
    "\n",
    "print(\"Shape of the samples (examples, len_example, features):\", features.shape)\n",
    "print(\"Shape of the samples (examples, len_example, attributes):\", attributes.shape)\n",
    "\n",
    "np.save('train_features_15_SUB.npy', features)\n",
    "np.save('train_attributes_15_SUB.npy', attributes)\n",
    "\n",
    "test_samples_subset_channels = np.vstack(test_samples)\n",
    "\n",
    "features = test_samples_subset_channels[:, :, :nr_features]\n",
    "attributes = test_samples_subset_channels[:, 0, -2:]\n",
    "\n",
    "print(\"Shape of the samples (examples, len_example, features):\", features.shape)\n",
    "print(\"Shape of the samples (examples, len_example, attributes):\", attributes.shape)\n",
    "\n",
    "np.save('test_features_15_SUB', features)\n",
    "np.save('test_attributes_15_SUB', attributes)\n"
   ]
  }
 ],
 "metadata": {
  "kernelspec": {
   "display_name": "Python 3",
   "language": "python",
   "name": "python3"
  },
  "language_info": {
   "codemirror_mode": {
    "name": "ipython",
    "version": 3
   },
   "file_extension": ".py",
   "mimetype": "text/x-python",
   "name": "python",
   "nbconvert_exporter": "python",
   "pygments_lexer": "ipython3",
   "version": "3.10.9"
  }
 },
 "nbformat": 4,
 "nbformat_minor": 2
}
