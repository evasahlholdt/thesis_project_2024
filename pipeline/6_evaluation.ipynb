{
 "cells": [
  {
   "cell_type": "markdown",
   "metadata": {},
   "source": [
    "# **Evaluate results from synthesization**"
   ]
  },
  {
   "cell_type": "markdown",
   "metadata": {},
   "source": [
    "## Import libaries"
   ]
  },
  {
   "cell_type": "code",
   "execution_count": 1,
   "metadata": {},
   "outputs": [],
   "source": [
    "import sys\n",
    "import os\n",
    "## Append parent directory\n",
    "sys.path.append(os.path.dirname(os.getcwd()))\n",
    "import numpy as np\n",
    "import json\n",
    "from scripts.evaluation import Evaluate"
   ]
  },
  {
   "cell_type": "markdown",
   "metadata": {},
   "source": [
    "# **Baselines**"
   ]
  },
  {
   "cell_type": "markdown",
   "metadata": {},
   "source": [
    "## Real against real "
   ]
  },
  {
   "cell_type": "code",
   "execution_count": null,
   "metadata": {},
   "outputs": [],
   "source": [
    "ob_3_ALL = Evaluate(\n",
    "    real_features_path = r'/data_real/all_sub/train_features_3_ALL.npy', \n",
    "    real_attributes_path = r'/data_real/all_sub/train_attributes_3_ALL.npy', \n",
    "    syn_features_path = r'/data_real/all_sub/train_features_3_ALL.npy', \n",
    "    syn_attributes_path = r'/data_real/all_sub/train_attributes_3_ALL.npy', \n",
    "    dataset_name = \"real_3_ALL\", \n",
    "    result_folder_path = \"/results/results_evaluation\")\n",
    "\n",
    "ob_3_SUB = Evaluate(\n",
    "    real_features_path = r'/data_real/25_sub/train_features_3_SUB.npy', \n",
    "    real_attributes_path = r'/data_real/25_sub/train_attributes_3_SUB.npy', \n",
    "    syn_features_path = r'/data_real/25_sub/train_features_3_SUB.npy', \n",
    "    syn_attributes_path = r'/data_real/25_sub/train_attributes_3_SUB.npy', \n",
    "    dataset_name = \"real_3_SUB\", \n",
    "    result_folder_path = \"/results/results_evaluation\")\n",
    "\n",
    "ob_15_SUB = Evaluate(\n",
    "    real_features_path = r'/data_real/25_sub/train_features_15_SUB.npy', \n",
    "    real_attributes_path = r'/data_real/25_sub/train_attributes_15_SUB.npy', \n",
    "    syn_features_path = r'/data_real/25_sub/train_features_15_SUB.npy', \n",
    "    syn_attributes_path = r'/data_real/25_sub/train_attributes_15_SUB.npy', \n",
    "    dataset_name = \"real_15_SUB\", \n",
    "    result_folder_path = \"/results/results_evaluation\")"
   ]
  },
  {
   "cell_type": "code",
   "execution_count": null,
   "metadata": {},
   "outputs": [],
   "source": [
    "ob_3_ALL.evaluate(\n",
    "    use_euclidean = True,\n",
    "    use_mv_dtw = True,\n",
    "    use_feature_correlations = True,\n",
    "    use_autocorrelation = True,\n",
    "    use_icd = True,\n",
    "    use_hellinger_distance = True, \n",
    "    use_onnd = True, # Here ONND and INND is true to ensure they work as intended (return 0)\n",
    "    use_innd = True\n",
    ")\n",
    "\n",
    "ob_3_SUB.evaluate(\n",
    "    use_euclidean = True,\n",
    "    use_mv_dtw = True,\n",
    "    use_feature_correlations = True,\n",
    "    use_autocorrelation = True,\n",
    "    use_icd = True,\n",
    "    use_hellinger_distance = True\n",
    ")\n",
    "\n",
    "ob_15_SUB.evaluate(\n",
    "    use_euclidean = True,\n",
    "    use_mv_dtw = True,\n",
    "    use_feature_correlations = True,\n",
    "    use_autocorrelation = True,\n",
    "    use_icd = True,\n",
    "    use_hellinger_distance = True, \n",
    ")"
   ]
  },
  {
   "cell_type": "markdown",
   "metadata": {},
   "source": [
    "## Real against baseline (moderate)\n",
    "\n",
    "Compute metrics for baseline synthetic data with moderate noise."
   ]
  },
  {
   "cell_type": "code",
   "execution_count": 2,
   "metadata": {},
   "outputs": [],
   "source": [
    "baseline_moderate_3_ALL = Evaluate(\n",
    "    real_features_path = r'/data_real/all_sub/train_features_3_ALL.npy',\n",
    "    real_attributes_path = r'/data_real/all_sub/train_attributes_3_ALL.npy',\n",
    "    syn_features_path = r'/data_synthetic/baseline/train_features_3_ALL_moderate.npy',\n",
    "    syn_attributes_path = r'/data_real/all_sub/train_attributes_3_ALL.npy',\n",
    "    dataset_name = \"baseline_moderate_3_ALL\", \n",
    "    result_folder_path = \"/results/results_evaluation\")\n",
    "\n",
    "baseline_moderate_3_SUB = Evaluate(\n",
    "    real_features_path = r'/data_real/25_sub/train_features_3_SUB.npy',\n",
    "    real_attributes_path = r'/data_real/25_sub/train_attributes_3_SUB.npy',\n",
    "    syn_features_path = r'/data_synthetic/baseline/train_features_3_SUB_moderate.npy',\n",
    "    syn_attributes_path = r'/data_real/25_sub/train_attributes_3_SUB.npy',\n",
    "    dataset_name = \"baseline_moderate_3_SUB\", \n",
    "    result_folder_path = \"/results/results_evaluation\")\n",
    "\n",
    "baseline_moderate_15_SUB = Evaluate(\n",
    "    real_features_path = r'/data_real/25_sub/train_features_15_SUB.npy',\n",
    "    real_attributes_path = r'/data_real/25_sub/train_attributes_15_SUB.npy',\n",
    "    syn_features_path = r'/data_synthetic/baseline/train_features_15_SUB_moderate.npy',\n",
    "    syn_attributes_path = r'/data_real/25_sub/train_attributes_15_SUB.npy',\n",
    "    dataset_name = \"baseline_moderate_15_SUB\", \n",
    "    result_folder_path = \"/results/results_evaluation\")"
   ]
  },
  {
   "cell_type": "code",
   "execution_count": null,
   "metadata": {},
   "outputs": [],
   "source": [
    "baseline_moderate_3_ALL.evaluate(\n",
    "    use_euclidean=True,\n",
    "    use_mv_dtw=True, \n",
    "    use_feature_correlations=True, \n",
    "    use_autocorrelation=True, \n",
    "    use_icd=True, \n",
    "    use_hellinger_distance=True, \n",
    "    use_onnd = True,\n",
    "    use_innd = True)\n",
    "\n",
    "baseline_moderate_3_SUB.evaluate(\n",
    "    use_euclidean=True,\n",
    "    use_mv_dtw=True, \n",
    "    use_feature_correlations=True, \n",
    "    use_autocorrelation=True, \n",
    "    use_icd=True, \n",
    "    use_hellinger_distance=True, \n",
    "    use_onnd = True,\n",
    "    use_innd = True)\n",
    "\n",
    "baseline_moderate_15_SUB.evaluate(\n",
    "    use_euclidean=True,\n",
    "    use_mv_dtw=True, \n",
    "    use_feature_correlations=True, \n",
    "    use_autocorrelation=True, \n",
    "    use_icd=True, \n",
    "    use_hellinger_distance=True, \n",
    "    use_onnd = True,\n",
    "    use_innd = True)\n",
    "    "
   ]
  },
  {
   "cell_type": "markdown",
   "metadata": {},
   "source": [
    "## Real against baseline (high)\n",
    "\n",
    "Compute metrics for baseline synthetic data with high noise."
   ]
  },
  {
   "cell_type": "code",
   "execution_count": null,
   "metadata": {},
   "outputs": [],
   "source": [
    "baseline_high_3_ALL = Evaluate(\n",
    "    real_features_path = r'/data_real/all_sub/train_features_3_ALL.npy',\n",
    "    real_attributes_path = r'/data_real/all_sub/train_attributes_3_ALL.npy',\n",
    "    syn_features_path = r'/data_synthetic/baseline/train_features_3_ALL_high.npy',\n",
    "    syn_attributes_path = r'/data_real/all_sub/train_attributes_3_ALL.npy',\n",
    "    dataset_name = \"baseline_high_3_ALL\", \n",
    "    result_folder_path = \"/results/results_evaluation\")\n",
    "\n",
    "baseline_high_3_SUB = Evaluate(\n",
    "    real_features_path = r'/data_real/25_sub/train_features_3_SUB.npy',\n",
    "    real_attributes_path = r'/data_real/25_sub/train_attributes_3_SUB.npy',\n",
    "    syn_features_path = r'/data_synthetic/baseline/train_features_3_SUB_high.npy',\n",
    "    syn_attributes_path = r'/data_real/25_sub/train_attributes_3_SUB.npy',\n",
    "    dataset_name = \"baseline_high_3_SUB\", \n",
    "    result_folder_path = \"/results/results_evaluation\")\n",
    "\n",
    "baseline_high_15_SUB = Evaluate(\n",
    "    real_features_path = r'/data_real/25_sub/train_features_15_SUB.npy',\n",
    "    real_attributes_path = r'/data_real/25_sub/train_attributes_15_SUB.npy',\n",
    "    syn_features_path = r'/data_synthetic/baseline/train_features_15_SUB_high.npy',\n",
    "    syn_attributes_path = r'/data_real/25_sub/train_attributes_15_SUB.npy',\n",
    "    dataset_name = \"baseline_high_15_SUB\", \n",
    "    result_folder_path = \"/results/results_evaluation\")"
   ]
  },
  {
   "cell_type": "code",
   "execution_count": null,
   "metadata": {},
   "outputs": [],
   "source": [
    "baseline_high_3_ALL.evaluate(\n",
    "    use_euclidean=True,\n",
    "    use_mv_dtw=True, \n",
    "    use_feature_correlations=True, \n",
    "    use_autocorrelation=True, \n",
    "    use_icd=True, \n",
    "    use_hellinger_distance=True, \n",
    "    use_onnd = True,\n",
    "    use_innd = True)\n",
    "\n",
    "baseline_high_3_SUB.evaluate(\n",
    "    use_euclidean=True,\n",
    "    use_mv_dtw=True, \n",
    "    use_feature_correlations=True, \n",
    "    use_autocorrelation=True, \n",
    "    use_icd=True, \n",
    "    use_hellinger_distance=True, \n",
    "    use_onnd = True,\n",
    "    use_innd = True)\n",
    "\n",
    "baseline_high_15_SUB.evaluate(\n",
    "    use_euclidean=True,\n",
    "    use_mv_dtw=True, \n",
    "    use_feature_correlations=True, \n",
    "    use_autocorrelation=True, \n",
    "    use_icd=True, \n",
    "    use_hellinger_distance=True, \n",
    "    use_onnd = True,\n",
    "    use_innd = True)\n",
    "    "
   ]
  },
  {
   "cell_type": "markdown",
   "metadata": {},
   "source": [
    "# **Synthetic**"
   ]
  },
  {
   "cell_type": "markdown",
   "metadata": {},
   "source": [
    "## Real against synthetic"
   ]
  },
  {
   "cell_type": "code",
   "execution_count": 5,
   "metadata": {},
   "outputs": [],
   "source": [
    "synthetic_3_ALL = Evaluate(\n",
    "    real_features_path = r'/data_real/all_sub/train_features_3_ALL.npy',\n",
    "    real_attributes_path = r'/data_real/all_sub/train_attributes_3_ALL.npy',\n",
    "    syn_features_path = r'/data_synthetic/synthetic_features_3_ALL.npy',\n",
    "    syn_attributes_path = r'/data_synthetic/synthetic_attributes_3_ALL.npy',\n",
    "    dataset_name = \"synthetic_3_ALL\", \n",
    "    result_folder_path = \"/results/results_evaluation\")\n",
    "\n",
    "synthetic_3_SUB = Evaluate(\n",
    "    real_features_path = r'/data_real/25_sub/train_features_3_SUB.npy',\n",
    "    real_attributes_path = r'/data_real/25_sub/train_attributes_3_SUB.npy',\n",
    "    syn_features_path = r'/data_synthetic/25_sub/synthetic_features_3_SUB.npy',\n",
    "    syn_attributes_path = r'/data_synthetic/25_sub/synthetic_attributes_3_SUB.npy',\n",
    "    dataset_name = \"synthetic_3_SUB\", \n",
    "    result_folder_path = \"/results/results_evaluation\")\n",
    "\n",
    "synthetic_15_SUB = Evaluate(\n",
    "    real_features_path = r'/data_real/25_sub/train_features_15_SUB.npy',\n",
    "    real_attributes_path = r'/data_real/25_sub/train_attributes_15_SUB.npy',\n",
    "    syn_features_path = r'/data_synthetic/25_sub/synthetic_features_15_SUB.npy',\n",
    "    syn_attributes_path = r'/data_synthetic/25_sub/synthetic_attributes_15_SUB.npy',\n",
    "    dataset_name = \"synthetic_15_SUB\", \n",
    "    result_folder_path = \"/results/results_evaluation\")"
   ]
  },
  {
   "cell_type": "code",
   "execution_count": null,
   "metadata": {},
   "outputs": [],
   "source": [
    "synthetic_3_ALL.evaluate(\n",
    "    use_euclidean = True,\n",
    "    use_mv_dtw = True,\n",
    "    use_feature_correlations = True,\n",
    "    use_autocorrelation = True,\n",
    "    use_icd = True,\n",
    "    use_hellinger_distance = True, \n",
    "    use_onnd = True,\n",
    "    use_innd = True\n",
    ")\n",
    "\n",
    "synthetic_3_SUB.evaluate(\n",
    "    use_euclidean = True,\n",
    "    use_mv_dtw = True,\n",
    "    use_feature_correlations = True,\n",
    "    use_autocorrelation = True,\n",
    "    use_icd = True,\n",
    "    use_hellinger_distance = True, \n",
    "    use_onnd = True,\n",
    "    use_innd = True\n",
    ")\n",
    "\n",
    "synthetic_15_SUB.evaluate(\n",
    "    use_euclidean = True,\n",
    "    use_mv_dtw = True,\n",
    "    use_feature_correlations = True,\n",
    "    use_autocorrelation = True,\n",
    "    use_icd = True,\n",
    "    use_hellinger_distance = True, \n",
    "    use_onnd = True,\n",
    "    use_innd = True\n",
    ")"
   ]
  }
 ],
 "metadata": {
  "kernelspec": {
   "display_name": "Python 3",
   "language": "python",
   "name": "python3"
  },
  "language_info": {
   "codemirror_mode": {
    "name": "ipython",
    "version": 3
   },
   "file_extension": ".py",
   "mimetype": "text/x-python",
   "name": "python",
   "nbconvert_exporter": "python",
   "pygments_lexer": "ipython3",
   "version": "3.12.3"
  }
 },
 "nbformat": 4,
 "nbformat_minor": 2
}
