{
 "cells": [
  {
   "cell_type": "markdown",
   "metadata": {},
   "source": [
    "# **Train DG + generate synthetic data** "
   ]
  },
  {
   "cell_type": "markdown",
   "metadata": {},
   "source": [
    "## Import libraries"
   ]
  },
  {
   "cell_type": "code",
   "execution_count": null,
   "metadata": {},
   "outputs": [],
   "source": [
    "import sys\n",
    "import os\n",
    "import json\n",
    "## Append parent directory\n",
    "sys.path.append(os.path.dirname(os.getcwd()))\n",
    "from scripts.run_synthesization import train_generate"
   ]
  },
  {
   "cell_type": "markdown",
   "metadata": {},
   "source": [
    "## 3-ALL"
   ]
  },
  {
   "cell_type": "code",
   "execution_count": null,
   "metadata": {},
   "outputs": [],
   "source": [
    "def train_generate(\n",
    "    dataset_name = \"3_ALL\", \n",
    "    real_feature_path = \"/data_real/train_features_3_ALL.npy\", \n",
    "    real_attribute_path = \"/data_real/train_attributes_3_ALL.npy\", \n",
    "    epochs = 3000)"
   ]
  },
  {
   "cell_type": "markdown",
   "metadata": {},
   "source": [
    "## 3-SUB"
   ]
  },
  {
   "cell_type": "code",
   "execution_count": null,
   "metadata": {},
   "outputs": [],
   "source": [
    "def train_generate(\n",
    "    dataset_name = \"3_SUB\", \n",
    "    real_feature_path = \"/train_features_3_SUB.npy\", \n",
    "    real_attribute_path = \"/data_real/train_attributes_3_SUB.npy\", \n",
    "    epochs = 3000)"
   ]
  },
  {
   "cell_type": "markdown",
   "metadata": {},
   "source": [
    "## 15-SUB"
   ]
  },
  {
   "cell_type": "code",
   "execution_count": null,
   "metadata": {},
   "outputs": [],
   "source": [
    "def train_generate(\n",
    "    dataset_name = \"15_SUB\", \n",
    "    real_feature_path = \"/data_real/train_features_15_SUB.npy\", \n",
    "    real_attribute_path = \"/data_real/train_attributes_15_SUB.npy\", \n",
    "    epochs = 3000)"
   ]
  }
 ],
 "metadata": {
  "language_info": {
   "name": "python"
  }
 },
 "nbformat": 4,
 "nbformat_minor": 2
}
